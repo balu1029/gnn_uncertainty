{
 "cells": [
  {
   "cell_type": "code",
   "execution_count": 2,
   "metadata": {},
   "outputs": [],
   "source": [
    "import pandas as pd"
   ]
  },
  {
   "cell_type": "code",
   "execution_count": null,
   "metadata": {},
   "outputs": [
    {
     "name": "stdout",
     "output_type": "stream",
     "text": [
      "Energy Correlation In Distribution Energies --- Mean: 0.16212760681598018, Standard Deviation: 0.07400162432150072\n",
      "Energy Correlation In Distribution Forces --- Mean: 0.5598449592084415, Standard Deviation: 0.09738095054994718\n",
      "Force Correlation In Distribution Forces --- Mean: 0.5598311481863306, Standard Deviation: 0.10447136591752325\n",
      "Energy Correlation Out Distribution Energy --- Mean: 0.5196380909027687, Standard Deviation: 0.18553803950292463\n",
      "Energy Correlation Out Distribution Forces --- Mean: 0.7705966366199986, Standard Deviation: 0.07562575356210577\n",
      "Force Correlation Out Distribution Forces --- Mean: 0.7721421191360223, Standard Deviation: 0.07389944329329387\n",
      "Energy R2 Score In Distribution --- Mean: 0.8867010731588036, Standard Deviation: 0.07887137728330136\n",
      "Forces R2 Score In Distribution --- Mean: 0.9470553283559525, Standard Deviation: 0.03876771591651571\n",
      "Energy R2 Score Out Distribution --- Mean: -0.49884797074993836, Standard Deviation: 0.8257396716899487\n",
      "Forces R2 Score Out Distribution --- Mean: 0.750451227155639, Standard Deviation: 0.08113793514903293\n"
     ]
    }
   ],
   "source": [
    "# Read the CSV file into a DataFrame\n",
    "df = pd.read_csv('logs/swag20_8_density_energy/eval.csv')\n",
    "\n",
    "metrics = [\n",
    "           'Energy Correlation In Distribution Energies',\n",
    "           'Energy Correlation In Distribution Forces',\n",
    "           'Force Correlation In Distribution Forces',\n",
    "           'Force Correlation In Distribution Energy',         \n",
    "           'Energy Correlation Out Distribution Energy',\n",
    "           'Energy Correlation Out Distribution Forces',\n",
    "           'Force Correlation Out Distribution Energy',\n",
    "           'Force Correlation Out Distribution Forces',\n",
    "           'Energy R2 Score In Distribution',\n",
    "           'Forces R2 Score In Distribution',\n",
    "           'Energy R2 Score Out Distribution',\n",
    "           'Forces R2 Score Out Distribution'\n",
    "           ]\n",
    "\n",
    "for metric in metrics:\n",
    "    column = df[metric]  # Change 'your_column_name' to the column you want\n",
    "\n",
    "    # Calculate the mean and standard deviation\n",
    "    mean_value = column.mean()\n",
    "    std_value = column.std()\n",
    "\n",
    "    print(f\"{metric} --- Mean: {mean_value}, Standard Deviation: {std_value}\")"
   ]
  },
  {
   "cell_type": "code",
   "execution_count": null,
   "metadata": {},
   "outputs": [],
   "source": []
  }
 ],
 "metadata": {
  "kernelspec": {
   "display_name": "torch",
   "language": "python",
   "name": "python3"
  },
  "language_info": {
   "codemirror_mode": {
    "name": "ipython",
    "version": 3
   },
   "file_extension": ".py",
   "mimetype": "text/x-python",
   "name": "python",
   "nbconvert_exporter": "python",
   "pygments_lexer": "ipython3",
   "version": "3.12.4"
  }
 },
 "nbformat": 4,
 "nbformat_minor": 2
}
