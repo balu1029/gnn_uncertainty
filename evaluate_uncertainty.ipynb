{
 "cells": [
  {
   "cell_type": "code",
   "execution_count": 4,
   "metadata": {},
   "outputs": [],
   "source": [
    "import pandas as pd"
   ]
  },
  {
   "cell_type": "code",
   "execution_count": 17,
   "metadata": {},
   "outputs": [],
   "source": [
    "def evaluate(path, energy_uncertainty=True, force_uncertainty=True):\n",
    "    df = pd.read_csv(path)\n",
    "    metrics = ['Energy R2 Score In Distribution',\n",
    "           'Forces R2 Score In Distribution',\n",
    "           'Energy R2 Score Out Distribution',\n",
    "           'Forces R2 Score Out Distribution']\n",
    "    if energy_uncertainty:\n",
    "        metrics.append('Energy Correlation In Distribution Energies')\n",
    "        metrics.append('Energy Correlation In Distribution Forces')\n",
    "        metrics.append('Energy Correlation Out Distribution Energy')\n",
    "        metrics.append('Energy Correlation Out Distribution Forces')\n",
    "    if force_uncertainty:\n",
    "        metrics.append('Force Correlation In Distribution Forces')\n",
    "        metrics.append('Force Correlation Out Distribution Forces')\n",
    "    \n",
    "    for metric in metrics:\n",
    "        column = df[metric]  # Change 'your_column_name' to the column you want\n",
    "\n",
    "        # Calculate the mean and standard deviation\n",
    "        mean_value = column.mean()\n",
    "        std_value = column.std()\n",
    "\n",
    "        print(f\"{metric} --- Mean: {mean_value}, Standard Deviation: {std_value}\")\n",
    "    \n"
   ]
  },
  {
   "cell_type": "code",
   "execution_count": 18,
   "metadata": {},
   "outputs": [
    {
     "name": "stdout",
     "output_type": "stream",
     "text": [
      "Energy R2 Score In Distribution --- Mean: 0.9741603432968212, Standard Deviation: 0.010399846238084001\n",
      "Forces R2 Score In Distribution --- Mean: 0.9948843902696056, Standard Deviation: 0.0008569604291245083\n",
      "Energy R2 Score Out Distribution --- Mean: 0.7400028925849456, Standard Deviation: 0.05762334411382458\n",
      "Forces R2 Score Out Distribution --- Mean: 0.9555224830325336, Standard Deviation: 0.01618892416228364\n",
      "Energy Correlation In Distribution Energies --- Mean: 0.08163188804065635, Standard Deviation: 0.23051295492127\n",
      "Energy Correlation In Distribution Forces --- Mean: 0.22407747834566588, Standard Deviation: 0.13281641785103881\n",
      "Energy Correlation Out Distribution Energy --- Mean: 0.46102510311587663, Standard Deviation: 0.18013870612444777\n",
      "Energy Correlation Out Distribution Forces --- Mean: 0.6846448521125688, Standard Deviation: 0.06870784626871902\n",
      "Force Correlation In Distribution Forces --- Mean: 0.7651762766721533, Standard Deviation: 0.07407380809171402\n",
      "Force Correlation Out Distribution Forces --- Mean: 0.9521913163634033, Standard Deviation: 0.023662488231902586\n"
     ]
    }
   ],
   "source": [
    "path = \"logs/ensemble3_20241018_101159_reevaluate3/eval.csv\"\n",
    "\n",
    "evaluate(path, energy_uncertainty=True, force_uncertainty=True)"
   ]
  },
  {
   "cell_type": "code",
   "execution_count": null,
   "metadata": {},
   "outputs": [],
   "source": []
  }
 ],
 "metadata": {
  "kernelspec": {
   "display_name": "torch",
   "language": "python",
   "name": "python3"
  },
  "language_info": {
   "codemirror_mode": {
    "name": "ipython",
    "version": 3
   },
   "file_extension": ".py",
   "mimetype": "text/x-python",
   "name": "python",
   "nbconvert_exporter": "python",
   "pygments_lexer": "ipython3",
   "version": "3.12.4"
  }
 },
 "nbformat": 4,
 "nbformat_minor": 2
}
