{
 "cells": [
  {
   "cell_type": "code",
   "execution_count": 14,
   "metadata": {},
   "outputs": [],
   "source": [
    "import csv\n",
    "import os\n",
    "import pandas as pd\n",
    "\n",
    "experiment= \"swag25\"\n",
    "experiments = [\"swag15\", \"swag25\", \"swag35\", \"swag45\", \"swag55\", \"mve\", \"ensemble3\"]"
   ]
  },
  {
   "cell_type": "markdown",
   "metadata": {},
   "source": [
    "### Model performance"
   ]
  },
  {
   "cell_type": "code",
   "execution_count": 12,
   "metadata": {},
   "outputs": [
    {
     "name": "stdout",
     "output_type": "stream",
     "text": [
      "swag25 R2 score:                0.93±0.04\n",
      "swag25 Correlation Coefficient: -0.01±0.06\n"
     ]
    }
   ],
   "source": [
    "file_path_model = f'{experiment}_model_eval.csv'\n",
    "file_path_uncertainty = f'{experiment}_uncertainty_eval.csv'\n",
    "\n",
    "# Read the CSV file into a pandas DataFrame\n",
    "df_model = pd.read_csv(file_path_model)\n",
    "df_uncertainty = pd.read_csv(file_path_uncertainty)\n",
    "\n",
    "# Display the DataFrame\n",
    "r2_mean = df_model[\"Energy R2 Score\"].mean()\n",
    "r2_std = df_model[\"Energy R2 Score\"].std()\n",
    "corr_mean = df_uncertainty[\"Correlation Coefficient\"].mean()\n",
    "corr_std = df_uncertainty[\"Correlation Coefficient\"].std()\n",
    "print(\"{:s} R2 score:                {:.2f}±{:.2f}\".format(experiment, r2_mean, r2_std))\n",
    "print(\"{:s} Correlation Coefficient: {:.2f}±{:.2f}\".format(experiment, corr_mean, corr_std))\n"
   ]
  },
  {
   "cell_type": "code",
   "execution_count": 25,
   "metadata": {},
   "outputs": [
    {
     "name": "stdout",
     "output_type": "stream",
     "text": [
      "swag15     R2 score                  0.93±0.05\n",
      "swag15     Correlation Coefficient   -0.01±0.03\n",
      "\n",
      "swag25     R2 score                  0.93±0.04\n",
      "swag25     Correlation Coefficient   -0.01±0.06\n",
      "\n",
      "swag35     R2 score                  0.94±0.04\n",
      "swag35     Correlation Coefficient   0.01±0.02\n",
      "\n",
      "swag45     R2 score                  0.96±0.02\n",
      "swag45     Correlation Coefficient   0.02±0.04\n",
      "\n",
      "swag55     R2 score                  0.94±0.04\n",
      "swag55     Correlation Coefficient   0.03±0.02\n",
      "\n",
      "mve        R2 score                  0.95±0.02\n",
      "mve        Correlation Coefficient   -0.06±0.13\n",
      "\n",
      "ensemble3  R2 score                  0.97±0.01\n",
      "ensemble3  Correlation Coefficient   0.20±0.21\n",
      "\n"
     ]
    }
   ],
   "source": [
    "for experiment in experiments:\n",
    "    file_path_model = f'{experiment}_model_eval.csv'\n",
    "    file_path_uncertainty = f'{experiment}_uncertainty_eval.csv'\n",
    "\n",
    "    # Read the CSV file into a pandas DataFrame\n",
    "    df_model = pd.read_csv(file_path_model)\n",
    "    df_uncertainty = pd.read_csv(file_path_uncertainty)\n",
    "\n",
    "    # Display the DataFrame\n",
    "    r2_mean = df_model[\"Energy R2 Score\"].mean()\n",
    "    r2_std = df_model[\"Energy R2 Score\"].std()\n",
    "    corr_mean = df_uncertainty[\"Correlation Coefficient\"].mean()\n",
    "    corr_std = df_uncertainty[\"Correlation Coefficient\"].std()\n",
    "    print(\"{:10s} {:25s} {:.2f}±{:.2f}\".format(experiment, \"R2 score\", r2_mean, r2_std))\n",
    "    print(\"{:10s} {:25s} {:.2f}±{:.2f}\".format(experiment, \"Correlation Coefficient\", corr_mean, corr_std))\n",
    "    print()"
   ]
  },
  {
   "cell_type": "code",
   "execution_count": null,
   "metadata": {},
   "outputs": [],
   "source": []
  }
 ],
 "metadata": {
  "kernelspec": {
   "display_name": "torch",
   "language": "python",
   "name": "python3"
  },
  "language_info": {
   "codemirror_mode": {
    "name": "ipython",
    "version": 3
   },
   "file_extension": ".py",
   "mimetype": "text/x-python",
   "name": "python",
   "nbconvert_exporter": "python",
   "pygments_lexer": "ipython3",
   "version": "3.12.4"
  }
 },
 "nbformat": 4,
 "nbformat_minor": 2
}
